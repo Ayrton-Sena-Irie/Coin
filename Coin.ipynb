{
  "nbformat": 4,
  "nbformat_minor": 0,
  "metadata": {
    "colab": {
      "provenance": []
    },
    "kernelspec": {
      "name": "python3",
      "display_name": "Python 3"
    },
    "language_info": {
      "name": "python"
    }
  },
  "cells": [
    {
      "cell_type": "code",
      "source": [
        "n=int(input(\"投入金額\"))\n",
        "x=int(input(\"値段\"))\n",
        "#お釣り\n",
        "change=n-x\n",
        "#在庫\n",
        "inventory=[100,100,100,100]\n",
        "#使う枚数\n",
        "count=[0,0,0,0]\n",
        "if n-x>=10:\n",
        "  while True:\n",
        "    if inventory!=[0,0,0,0]:\n",
        "      if change>=500 and inventory[0]!=0:\n",
        "        change-=500\n",
        "        inventory[0]-=1\n",
        "        count[0]+=1\n",
        "      elif change>=100 and inventory[1]!=0:\n",
        "        change-=100\n",
        "        inventory[1]-=1\n",
        "        count[1]+=1\n",
        "      elif change>=50 and inventory[2]!=0:\n",
        "        change-=50\n",
        "        inventory[2]-=1\n",
        "        count[2]+=1\n",
        "      elif change>=10 and inventory[3]!=0:\n",
        "        change-=10\n",
        "        inventory[3]-=1\n",
        "        count[3]+=1\n",
        "      elif change==0:\n",
        "        print(f\"お釣りのコインは500円が{count[0]}枚,100円が{count[1]}枚,50円が{count[2]}枚,10円が{count[3]}枚\")\n",
        "        break\n",
        "    else:\n",
        "      print(\"釣り銭不足です\",n,\"円そのままお返しします\")\n",
        "      break\n",
        "\n",
        "else:\n",
        "  print(\"お釣りは10の倍数になるように設定してください\")\n",
        "print()"
      ],
      "metadata": {
        "colab": {
          "base_uri": "https://localhost:8080/"
        },
        "id": "he2Hh_eN5OK5",
        "outputId": "3e37c6d6-34fc-4e63-86b2-0dae5e9e11ed"
      },
      "execution_count": 23,
      "outputs": [
        {
          "output_type": "stream",
          "name": "stdout",
          "text": [
            "投入金額800\n",
            "値段120\n",
            "お釣りのコインは500円が0枚,100円が6枚,50円が1枚,10円が3枚\n",
            "\n"
          ]
        }
      ]
    }
  ]
}